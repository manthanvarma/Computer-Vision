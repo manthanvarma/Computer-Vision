{
 "cells": [
  {
   "cell_type": "code",
   "execution_count": 7,
   "id": "56b6ed58",
   "metadata": {},
   "outputs": [],
   "source": [
    "import cv2\n",
    "import numpy as np\n",
    "import requests\n",
    "\n",
    "url = \"https://media.hswstatic.com/eyJidWNrZXQiOiJjb250ZW50Lmhzd3N0YXRpYy5jb20iLCJrZXkiOiJnaWZcL3BsYXlcLzBiN2Y0ZTliLWY1OWMtNDAyNC05ZjA2LWIzZGMxMjg1MGFiNy0xOTIwLTEwODAuanBnIiwiZWRpdHMiOnsicmVzaXplIjp7IndpZHRoIjo4Mjh9fX0=\"\n",
    "response = requests.get(url)\n",
    "img_arr = np.asarray(bytearray(response.content), dtype=np.uint8)\n",
    "image = cv2.imdecode(img_arr, cv2.IMREAD_COLOR)\n",
    "gray = cv2.cvtColor(image, cv2.COLOR_BGR2GRAY)"
   ]
  },
  {
   "cell_type": "code",
   "execution_count": 8,
   "id": "5e213add",
   "metadata": {},
   "outputs": [],
   "source": [
    "\n",
    "# ---------- Step 2: Filtering ----------\n",
    "avg_blur = cv2.blur(image, (5, 5))\n",
    "gaussian_blur = cv2.GaussianBlur(image, (5, 5), 0)\n",
    "median_blur = cv2.medianBlur(image, 5)"
   ]
  },
  {
   "cell_type": "code",
   "execution_count": 9,
   "id": "d17106a7",
   "metadata": {},
   "outputs": [],
   "source": [
    "\n",
    "# ---------- Step 3: Thresholding ----------\n",
    "_, binary_thresh = cv2.threshold(gray, 127, 255, cv2.THRESH_BINARY)\n",
    "_, otsu_thresh = cv2.threshold(gray, 0, 255, cv2.THRESH_BINARY + cv2.THRESH_OTSU)\n",
    "adaptive_thresh = cv2.adaptiveThreshold(\n",
    "    gray, 255, cv2.ADAPTIVE_THRESH_GAUSSIAN_C, cv2.THRESH_BINARY, 11, 2\n",
    ")"
   ]
  },
  {
   "cell_type": "code",
   "execution_count": 10,
   "id": "431e7e0c",
   "metadata": {},
   "outputs": [],
   "source": [
    "# ---------- Step 4: Edge Detection ----------\n",
    "canny_edges = cv2.Canny(gray, 100, 200)\n",
    "sobelx = cv2.Sobel(gray, cv2.CV_64F, 1, 0, ksize=5)\n",
    "sobely = cv2.Sobel(gray, cv2.CV_64F, 0, 1, ksize=5)\n",
    "sobelx = cv2.convertScaleAbs(sobelx)\n",
    "sobely = cv2.convertScaleAbs(sobely)\n",
    "sobel_combined = cv2.addWeighted(sobelx, 0.5, sobely, 0.5, 0)"
   ]
  },
  {
   "cell_type": "code",
   "execution_count": 11,
   "id": "180f5bad",
   "metadata": {},
   "outputs": [
    {
     "data": {
      "text/plain": [
       "array([[[  0, 255,   0],\n",
       "        [  0, 255,   0],\n",
       "        [  0, 255,   0],\n",
       "        ...,\n",
       "        [119, 124, 123],\n",
       "        [119, 124, 123],\n",
       "        [118, 123, 122]],\n",
       "\n",
       "       [[  0, 255,   0],\n",
       "        [  0, 255,   0],\n",
       "        [  0, 255,   0],\n",
       "        ...,\n",
       "        [120, 125, 124],\n",
       "        [119, 124, 123],\n",
       "        [118, 123, 122]],\n",
       "\n",
       "       [[  0, 255,   0],\n",
       "        [  0, 255,   0],\n",
       "        [158, 160, 160],\n",
       "        ...,\n",
       "        [120, 125, 124],\n",
       "        [120, 125, 124],\n",
       "        [119, 124, 123]],\n",
       "\n",
       "       ...,\n",
       "\n",
       "       [[  0, 255,   0],\n",
       "        [  0, 255,   0],\n",
       "        [142, 140, 140],\n",
       "        ...,\n",
       "        [115, 113, 112],\n",
       "        [115, 113, 112],\n",
       "        [115, 113, 112]],\n",
       "\n",
       "       [[  0, 255,   0],\n",
       "        [  0, 255,   0],\n",
       "        [  0, 255,   0],\n",
       "        ...,\n",
       "        [115, 113, 112],\n",
       "        [114, 112, 111],\n",
       "        [114, 112, 111]],\n",
       "\n",
       "       [[  0, 255,   0],\n",
       "        [  0, 255,   0],\n",
       "        [  0, 255,   0],\n",
       "        ...,\n",
       "        [115, 113, 112],\n",
       "        [114, 112, 111],\n",
       "        [114, 112, 111]]], dtype=uint8)"
      ]
     },
     "execution_count": 11,
     "metadata": {},
     "output_type": "execute_result"
    }
   ],
   "source": [
    "\n",
    "# ---------- Step 5: Contour Detection ----------\n",
    "_, thresh_for_contours = cv2.threshold(gray, 127, 255, cv2.THRESH_BINARY)\n",
    "contours, _ = cv2.findContours(thresh_for_contours, cv2.RETR_EXTERNAL, cv2.CHAIN_APPROX_SIMPLE)\n",
    "image_contours = image.copy()\n",
    "cv2.drawContours(image_contours, contours, -1, (0, 255, 0), 2)"
   ]
  },
  {
   "cell_type": "code",
   "execution_count": 12,
   "id": "1ae06676",
   "metadata": {},
   "outputs": [],
   "source": [
    "\n",
    "# ---------- Display ----------\n",
    "cv2.imshow(\"Original\", image)\n",
    "cv2.imshow(\"Average Blur\", avg_blur)\n",
    "cv2.imshow(\"Gaussian Blur\", gaussian_blur)\n",
    "cv2.imshow(\"Median Blur\", median_blur)\n",
    "\n",
    "cv2.imshow(\"Binary Threshold\", binary_thresh)\n",
    "cv2.imshow(\"Otsu Threshold\", otsu_thresh)\n",
    "cv2.imshow(\"Adaptive Threshold\", adaptive_thresh)\n",
    "\n",
    "cv2.imshow(\"Canny Edge\", canny_edges)\n",
    "cv2.imshow(\"Sobel X\", sobelx)\n",
    "cv2.imshow(\"Sobel Y\", sobely)\n",
    "cv2.imshow(\"Sobel Combined\", sobel_combined)\n",
    "\n",
    "cv2.imshow(\"Contours\", image_contours)\n",
    "\n",
    "cv2.waitKey(0)\n",
    "cv2.destroyAllWindows()\n"
   ]
  },
  {
   "cell_type": "code",
   "execution_count": null,
   "id": "1cc83bdd",
   "metadata": {},
   "outputs": [],
   "source": []
  }
 ],
 "metadata": {
  "kernelspec": {
   "display_name": "Python 3",
   "language": "python",
   "name": "python3"
  },
  "language_info": {
   "codemirror_mode": {
    "name": "ipython",
    "version": 3
   },
   "file_extension": ".py",
   "mimetype": "text/x-python",
   "name": "python",
   "nbconvert_exporter": "python",
   "pygments_lexer": "ipython3",
   "version": "3.12.5"
  }
 },
 "nbformat": 4,
 "nbformat_minor": 5
}
